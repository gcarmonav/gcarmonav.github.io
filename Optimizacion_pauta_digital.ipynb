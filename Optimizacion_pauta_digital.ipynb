{
  "nbformat": 4,
  "nbformat_minor": 0,
  "metadata": {
    "colab": {
      "name": "Optimizacion pauta digital.ipynb",
      "provenance": [],
      "collapsed_sections": [
        "x_j1rPNiR9X8"
      ],
      "authorship_tag": "ABX9TyMlUgjNb69wxGcL0ZHhUt1N",
      "include_colab_link": true
    },
    "kernelspec": {
      "display_name": "Python 3",
      "name": "python3"
    },
    "language_info": {
      "name": "python"
    }
  },
  "cells": [
    {
      "cell_type": "markdown",
      "metadata": {
        "id": "view-in-github",
        "colab_type": "text"
      },
      "source": [
        "<a href=\"https://colab.research.google.com/github/gcarmonav/gcarmonav.github.io/blob/main/Optimizacion_pauta_digital.ipynb\" target=\"_parent\"><img src=\"https://colab.research.google.com/assets/colab-badge.svg\" alt=\"Open In Colab\"/></a>"
      ]
    },
    {
      "cell_type": "markdown",
      "metadata": {
        "id": "vZzmfDByR9bP"
      },
      "source": [
        "\n",
        "#Actividad 05: Optimizando la pauta digital\n",
        "Por:\n",
        "\n",
        "Giovanna Carmona Valencia\n",
        "\n",
        "Hilber García López"
      ]
    },
    {
      "cell_type": "markdown",
      "metadata": {
        "id": "x_j1rPNiR9X8"
      },
      "source": [
        "##Indice\n",
        "- Planteamiento del problema\n",
        "\n",
        "- Resultados\n",
        "\n",
        "- Referencias"
      ]
    },
    {
      "cell_type": "markdown",
      "metadata": {
        "id": "q4LcsibkR9Vh"
      },
      "source": [
        "##Planteamiento del problema"
      ]
    },
    {
      "cell_type": "markdown",
      "metadata": {
        "id": "wUoHqpBlR9TL"
      },
      "source": [
        "La plataforma digital de servicios QUIX quiere atraer más usuarios. Para ello invertirá en pauta digital. La pauta digital permite configurar las horas en la que las diferentes redes sociales le mostrarán los anuncios de la plataforma a los potenciales usuarios. \n",
        "\n",
        "\n",
        "Se ha recogido información sobre datos de conexión de usuarios en un periodo de tiempo. De acuerdo con esta información, ¿cómo debería distribuir su presupuesto de pauta digital la compañía?\n"
      ]
    },
    {
      "cell_type": "markdown",
      "metadata": {
        "id": "M8cZGLkATykT"
      },
      "source": [
        "##Importación de librerias"
      ]
    },
    {
      "cell_type": "code",
      "metadata": {
        "id": "7hfoskZQFw2l"
      },
      "source": [
        "import numpy as np\n",
        "import pandas as pd\n",
        "from matplotlib import pyplot\n",
        "from pandas import Series\n",
        "import matplotlib.pyplot as plt"
      ],
      "execution_count": 31,
      "outputs": []
    },
    {
      "cell_type": "markdown",
      "metadata": {
        "id": "fhYaZ-ENV_c5"
      },
      "source": [
        "## Base de datos"
      ]
    },
    {
      "cell_type": "code",
      "metadata": {
        "colab": {
          "base_uri": "https://localhost:8080/"
        },
        "id": "v1hmKkUOEwuz",
        "outputId": "82d8327d-3975-40ae-ab20-e880065c9c3b"
      },
      "source": [
        "# Importar la librería de Drive en Colab y montar la unidad.\n",
        "\n",
        "from google.colab import drive\n",
        "drive.mount('/content/drive')"
      ],
      "execution_count": 32,
      "outputs": [
        {
          "output_type": "stream",
          "text": [
            "Drive already mounted at /content/drive; to attempt to forcibly remount, call drive.mount(\"/content/drive\", force_remount=True).\n"
          ],
          "name": "stdout"
        }
      ]
    },
    {
      "cell_type": "code",
      "metadata": {
        "id": "aqHTg9bxWT_u"
      },
      "source": [
        "dataset = pd.read_csv('/content/drive/MyDrive/Actividad_05_Optimizacion/datos_horas_conexion.csv', sep=';',decimal=',')"
      ],
      "execution_count": 33,
      "outputs": []
    },
    {
      "cell_type": "code",
      "metadata": {
        "colab": {
          "base_uri": "https://localhost:8080/",
          "height": 206
        },
        "id": "ZbWeqAvadyEv",
        "outputId": "27870ed3-f519-4497-ac18-d85a135562cd"
      },
      "source": [
        "dataset.head()"
      ],
      "execution_count": 34,
      "outputs": [
        {
          "output_type": "execute_result",
          "data": {
            "text/html": [
              "<div>\n",
              "<style scoped>\n",
              "    .dataframe tbody tr th:only-of-type {\n",
              "        vertical-align: middle;\n",
              "    }\n",
              "\n",
              "    .dataframe tbody tr th {\n",
              "        vertical-align: top;\n",
              "    }\n",
              "\n",
              "    .dataframe thead th {\n",
              "        text-align: right;\n",
              "    }\n",
              "</style>\n",
              "<table border=\"1\" class=\"dataframe\">\n",
              "  <thead>\n",
              "    <tr style=\"text-align: right;\">\n",
              "      <th></th>\n",
              "      <th>id_usuario</th>\n",
              "      <th>Calificadora</th>\n",
              "      <th>Correo</th>\n",
              "      <th>Fecha Consulta</th>\n",
              "      <th>Estado usuario</th>\n",
              "    </tr>\n",
              "  </thead>\n",
              "  <tbody>\n",
              "    <tr>\n",
              "      <th>0</th>\n",
              "      <td>c2290d89dfc4</td>\n",
              "      <td>Buró de Crédito</td>\n",
              "      <td>gmail.com</td>\n",
              "      <td>19/01/21 9:20</td>\n",
              "      <td>ACTIVO</td>\n",
              "    </tr>\n",
              "    <tr>\n",
              "      <th>1</th>\n",
              "      <td>8d24ef1d52d8</td>\n",
              "      <td>Buró de Crédito</td>\n",
              "      <td>gmail.com</td>\n",
              "      <td>19/01/21 8:28</td>\n",
              "      <td>ACTIVO</td>\n",
              "    </tr>\n",
              "    <tr>\n",
              "      <th>2</th>\n",
              "      <td>a5120d2c47fa</td>\n",
              "      <td>Buró de Crédito</td>\n",
              "      <td>gmail.com</td>\n",
              "      <td>17/01/21 13:36</td>\n",
              "      <td>ACTIVO</td>\n",
              "    </tr>\n",
              "    <tr>\n",
              "      <th>3</th>\n",
              "      <td>5a5d70893606</td>\n",
              "      <td>Buró de Crédito</td>\n",
              "      <td>edubc.mx</td>\n",
              "      <td>20/01/21 9:27</td>\n",
              "      <td>ACTIVO</td>\n",
              "    </tr>\n",
              "    <tr>\n",
              "      <th>4</th>\n",
              "      <td>4a2082948031</td>\n",
              "      <td>Buró de Crédito</td>\n",
              "      <td>gmail.com</td>\n",
              "      <td>21/01/21 14:26</td>\n",
              "      <td>ACTIVO</td>\n",
              "    </tr>\n",
              "  </tbody>\n",
              "</table>\n",
              "</div>"
            ],
            "text/plain": [
              "     id_usuario     Calificadora     Correo  Fecha Consulta Estado usuario\n",
              "0  c2290d89dfc4  Buró de Crédito  gmail.com   19/01/21 9:20         ACTIVO\n",
              "1  8d24ef1d52d8  Buró de Crédito  gmail.com   19/01/21 8:28         ACTIVO\n",
              "2  a5120d2c47fa  Buró de Crédito  gmail.com  17/01/21 13:36         ACTIVO\n",
              "3  5a5d70893606  Buró de Crédito   edubc.mx   20/01/21 9:27         ACTIVO\n",
              "4  4a2082948031  Buró de Crédito  gmail.com  21/01/21 14:26         ACTIVO"
            ]
          },
          "metadata": {
            "tags": []
          },
          "execution_count": 34
        }
      ]
    },
    {
      "cell_type": "code",
      "metadata": {
        "colab": {
          "base_uri": "https://localhost:8080/",
          "height": 395
        },
        "id": "qmDCDCkzgMXj",
        "outputId": "148ce8b3-bd77-4460-f054-8ab3d3793a3b"
      },
      "source": [
        "dataset.info()\n",
        "dataset.describe()\n"
      ],
      "execution_count": 35,
      "outputs": [
        {
          "output_type": "stream",
          "text": [
            "<class 'pandas.core.frame.DataFrame'>\n",
            "RangeIndex: 4022 entries, 0 to 4021\n",
            "Data columns (total 5 columns):\n",
            " #   Column          Non-Null Count  Dtype \n",
            "---  ------          --------------  ----- \n",
            " 0   id_usuario      4022 non-null   object\n",
            " 1   Calificadora    4022 non-null   object\n",
            " 2   Correo          4003 non-null   object\n",
            " 3   Fecha Consulta  4022 non-null   object\n",
            " 4   Estado usuario  4003 non-null   object\n",
            "dtypes: object(5)\n",
            "memory usage: 157.2+ KB\n"
          ],
          "name": "stdout"
        },
        {
          "output_type": "execute_result",
          "data": {
            "text/html": [
              "<div>\n",
              "<style scoped>\n",
              "    .dataframe tbody tr th:only-of-type {\n",
              "        vertical-align: middle;\n",
              "    }\n",
              "\n",
              "    .dataframe tbody tr th {\n",
              "        vertical-align: top;\n",
              "    }\n",
              "\n",
              "    .dataframe thead th {\n",
              "        text-align: right;\n",
              "    }\n",
              "</style>\n",
              "<table border=\"1\" class=\"dataframe\">\n",
              "  <thead>\n",
              "    <tr style=\"text-align: right;\">\n",
              "      <th></th>\n",
              "      <th>id_usuario</th>\n",
              "      <th>Calificadora</th>\n",
              "      <th>Correo</th>\n",
              "      <th>Fecha Consulta</th>\n",
              "      <th>Estado usuario</th>\n",
              "    </tr>\n",
              "  </thead>\n",
              "  <tbody>\n",
              "    <tr>\n",
              "      <th>count</th>\n",
              "      <td>4022</td>\n",
              "      <td>4022</td>\n",
              "      <td>4003</td>\n",
              "      <td>4022</td>\n",
              "      <td>4003</td>\n",
              "    </tr>\n",
              "    <tr>\n",
              "      <th>unique</th>\n",
              "      <td>3681</td>\n",
              "      <td>1</td>\n",
              "      <td>93</td>\n",
              "      <td>3442</td>\n",
              "      <td>3</td>\n",
              "    </tr>\n",
              "    <tr>\n",
              "      <th>top</th>\n",
              "      <td>fdcc844fb3b0</td>\n",
              "      <td>Buró de Crédito</td>\n",
              "      <td>gmail.com</td>\n",
              "      <td>21/01/21 20:24</td>\n",
              "      <td>ACTIVO</td>\n",
              "    </tr>\n",
              "    <tr>\n",
              "      <th>freq</th>\n",
              "      <td>66</td>\n",
              "      <td>4022</td>\n",
              "      <td>2812</td>\n",
              "      <td>4</td>\n",
              "      <td>3602</td>\n",
              "    </tr>\n",
              "  </tbody>\n",
              "</table>\n",
              "</div>"
            ],
            "text/plain": [
              "          id_usuario     Calificadora     Correo  Fecha Consulta Estado usuario\n",
              "count           4022             4022       4003            4022           4003\n",
              "unique          3681                1         93            3442              3\n",
              "top     fdcc844fb3b0  Buró de Crédito  gmail.com  21/01/21 20:24         ACTIVO\n",
              "freq              66             4022       2812               4           3602"
            ]
          },
          "metadata": {
            "tags": []
          },
          "execution_count": 35
        }
      ]
    },
    {
      "cell_type": "code",
      "metadata": {
        "colab": {
          "base_uri": "https://localhost:8080/",
          "height": 206
        },
        "id": "S7DgTejItSCC",
        "outputId": "16eb8d73-f516-4044-8d14-3df272d2358a"
      },
      "source": [
        "dataset['Fecha Consulta'] = pd.to_datetime(dataset['Fecha Consulta'])\n",
        "dataset.head()"
      ],
      "execution_count": 36,
      "outputs": [
        {
          "output_type": "execute_result",
          "data": {
            "text/html": [
              "<div>\n",
              "<style scoped>\n",
              "    .dataframe tbody tr th:only-of-type {\n",
              "        vertical-align: middle;\n",
              "    }\n",
              "\n",
              "    .dataframe tbody tr th {\n",
              "        vertical-align: top;\n",
              "    }\n",
              "\n",
              "    .dataframe thead th {\n",
              "        text-align: right;\n",
              "    }\n",
              "</style>\n",
              "<table border=\"1\" class=\"dataframe\">\n",
              "  <thead>\n",
              "    <tr style=\"text-align: right;\">\n",
              "      <th></th>\n",
              "      <th>id_usuario</th>\n",
              "      <th>Calificadora</th>\n",
              "      <th>Correo</th>\n",
              "      <th>Fecha Consulta</th>\n",
              "      <th>Estado usuario</th>\n",
              "    </tr>\n",
              "  </thead>\n",
              "  <tbody>\n",
              "    <tr>\n",
              "      <th>0</th>\n",
              "      <td>c2290d89dfc4</td>\n",
              "      <td>Buró de Crédito</td>\n",
              "      <td>gmail.com</td>\n",
              "      <td>2021-01-19 09:20:00</td>\n",
              "      <td>ACTIVO</td>\n",
              "    </tr>\n",
              "    <tr>\n",
              "      <th>1</th>\n",
              "      <td>8d24ef1d52d8</td>\n",
              "      <td>Buró de Crédito</td>\n",
              "      <td>gmail.com</td>\n",
              "      <td>2021-01-19 08:28:00</td>\n",
              "      <td>ACTIVO</td>\n",
              "    </tr>\n",
              "    <tr>\n",
              "      <th>2</th>\n",
              "      <td>a5120d2c47fa</td>\n",
              "      <td>Buró de Crédito</td>\n",
              "      <td>gmail.com</td>\n",
              "      <td>2021-01-17 13:36:00</td>\n",
              "      <td>ACTIVO</td>\n",
              "    </tr>\n",
              "    <tr>\n",
              "      <th>3</th>\n",
              "      <td>5a5d70893606</td>\n",
              "      <td>Buró de Crédito</td>\n",
              "      <td>edubc.mx</td>\n",
              "      <td>2021-01-20 09:27:00</td>\n",
              "      <td>ACTIVO</td>\n",
              "    </tr>\n",
              "    <tr>\n",
              "      <th>4</th>\n",
              "      <td>4a2082948031</td>\n",
              "      <td>Buró de Crédito</td>\n",
              "      <td>gmail.com</td>\n",
              "      <td>2021-01-21 14:26:00</td>\n",
              "      <td>ACTIVO</td>\n",
              "    </tr>\n",
              "  </tbody>\n",
              "</table>\n",
              "</div>"
            ],
            "text/plain": [
              "     id_usuario     Calificadora     Correo      Fecha Consulta Estado usuario\n",
              "0  c2290d89dfc4  Buró de Crédito  gmail.com 2021-01-19 09:20:00         ACTIVO\n",
              "1  8d24ef1d52d8  Buró de Crédito  gmail.com 2021-01-19 08:28:00         ACTIVO\n",
              "2  a5120d2c47fa  Buró de Crédito  gmail.com 2021-01-17 13:36:00         ACTIVO\n",
              "3  5a5d70893606  Buró de Crédito   edubc.mx 2021-01-20 09:27:00         ACTIVO\n",
              "4  4a2082948031  Buró de Crédito  gmail.com 2021-01-21 14:26:00         ACTIVO"
            ]
          },
          "metadata": {
            "tags": []
          },
          "execution_count": 36
        }
      ]
    },
    {
      "cell_type": "markdown",
      "metadata": {
        "id": "iew0LLz2IPi-"
      },
      "source": [
        "Con el fin de determinar las características del dataset, se utiliza la columna de 'Fecha Consulta', se lee como un tipo de dato datetime, se coloca como índice y se extraen sus principales características como día, mes, nombre de día, semana y hora."
      ]
    },
    {
      "cell_type": "code",
      "metadata": {
        "id": "gPfBe1wSgn5A"
      },
      "source": [
        "dataset['fecha']=dataset['Fecha Consulta']"
      ],
      "execution_count": 37,
      "outputs": []
    },
    {
      "cell_type": "code",
      "metadata": {
        "id": "ubNcHs2itnvs"
      },
      "source": [
        "# Se coloca la columna Fecha Consulta como índice\n",
        "dataset.set_index('Fecha Consulta', drop=True, inplace=True)\n"
      ],
      "execution_count": 38,
      "outputs": []
    },
    {
      "cell_type": "code",
      "metadata": {
        "colab": {
          "base_uri": "https://localhost:8080/",
          "height": 238
        },
        "id": "3pUyl3Z6uY5_",
        "outputId": "a1349930-0f3f-4edf-fb23-bfc944ee688f"
      },
      "source": [
        "# se extraen las características de la fecha de consulta\n",
        "dataset['day'] = [i.day for i in dataset.index]\n",
        "dataset['day_name'] = [i.day_name() for i in dataset.index]\n",
        "dataset['week_of_year'] = [i.weekofyear for i in dataset.index]\n",
        "dataset['hour'] = [i.hour for i in dataset.index]\n",
        "dataset['is_weekday'] = [i.isoweekday() for i in dataset.index]\n",
        "dataset.head()"
      ],
      "execution_count": 39,
      "outputs": [
        {
          "output_type": "execute_result",
          "data": {
            "text/html": [
              "<div>\n",
              "<style scoped>\n",
              "    .dataframe tbody tr th:only-of-type {\n",
              "        vertical-align: middle;\n",
              "    }\n",
              "\n",
              "    .dataframe tbody tr th {\n",
              "        vertical-align: top;\n",
              "    }\n",
              "\n",
              "    .dataframe thead th {\n",
              "        text-align: right;\n",
              "    }\n",
              "</style>\n",
              "<table border=\"1\" class=\"dataframe\">\n",
              "  <thead>\n",
              "    <tr style=\"text-align: right;\">\n",
              "      <th></th>\n",
              "      <th>id_usuario</th>\n",
              "      <th>Calificadora</th>\n",
              "      <th>Correo</th>\n",
              "      <th>Estado usuario</th>\n",
              "      <th>fecha</th>\n",
              "      <th>day</th>\n",
              "      <th>day_name</th>\n",
              "      <th>week_of_year</th>\n",
              "      <th>hour</th>\n",
              "      <th>is_weekday</th>\n",
              "    </tr>\n",
              "    <tr>\n",
              "      <th>Fecha Consulta</th>\n",
              "      <th></th>\n",
              "      <th></th>\n",
              "      <th></th>\n",
              "      <th></th>\n",
              "      <th></th>\n",
              "      <th></th>\n",
              "      <th></th>\n",
              "      <th></th>\n",
              "      <th></th>\n",
              "      <th></th>\n",
              "    </tr>\n",
              "  </thead>\n",
              "  <tbody>\n",
              "    <tr>\n",
              "      <th>2021-01-19 09:20:00</th>\n",
              "      <td>c2290d89dfc4</td>\n",
              "      <td>Buró de Crédito</td>\n",
              "      <td>gmail.com</td>\n",
              "      <td>ACTIVO</td>\n",
              "      <td>2021-01-19 09:20:00</td>\n",
              "      <td>19</td>\n",
              "      <td>Tuesday</td>\n",
              "      <td>3</td>\n",
              "      <td>9</td>\n",
              "      <td>2</td>\n",
              "    </tr>\n",
              "    <tr>\n",
              "      <th>2021-01-19 08:28:00</th>\n",
              "      <td>8d24ef1d52d8</td>\n",
              "      <td>Buró de Crédito</td>\n",
              "      <td>gmail.com</td>\n",
              "      <td>ACTIVO</td>\n",
              "      <td>2021-01-19 08:28:00</td>\n",
              "      <td>19</td>\n",
              "      <td>Tuesday</td>\n",
              "      <td>3</td>\n",
              "      <td>8</td>\n",
              "      <td>2</td>\n",
              "    </tr>\n",
              "    <tr>\n",
              "      <th>2021-01-17 13:36:00</th>\n",
              "      <td>a5120d2c47fa</td>\n",
              "      <td>Buró de Crédito</td>\n",
              "      <td>gmail.com</td>\n",
              "      <td>ACTIVO</td>\n",
              "      <td>2021-01-17 13:36:00</td>\n",
              "      <td>17</td>\n",
              "      <td>Sunday</td>\n",
              "      <td>2</td>\n",
              "      <td>13</td>\n",
              "      <td>7</td>\n",
              "    </tr>\n",
              "    <tr>\n",
              "      <th>2021-01-20 09:27:00</th>\n",
              "      <td>5a5d70893606</td>\n",
              "      <td>Buró de Crédito</td>\n",
              "      <td>edubc.mx</td>\n",
              "      <td>ACTIVO</td>\n",
              "      <td>2021-01-20 09:27:00</td>\n",
              "      <td>20</td>\n",
              "      <td>Wednesday</td>\n",
              "      <td>3</td>\n",
              "      <td>9</td>\n",
              "      <td>3</td>\n",
              "    </tr>\n",
              "    <tr>\n",
              "      <th>2021-01-21 14:26:00</th>\n",
              "      <td>4a2082948031</td>\n",
              "      <td>Buró de Crédito</td>\n",
              "      <td>gmail.com</td>\n",
              "      <td>ACTIVO</td>\n",
              "      <td>2021-01-21 14:26:00</td>\n",
              "      <td>21</td>\n",
              "      <td>Thursday</td>\n",
              "      <td>3</td>\n",
              "      <td>14</td>\n",
              "      <td>4</td>\n",
              "    </tr>\n",
              "  </tbody>\n",
              "</table>\n",
              "</div>"
            ],
            "text/plain": [
              "                       id_usuario     Calificadora  ... hour is_weekday\n",
              "Fecha Consulta                                      ...                \n",
              "2021-01-19 09:20:00  c2290d89dfc4  Buró de Crédito  ...    9          2\n",
              "2021-01-19 08:28:00  8d24ef1d52d8  Buró de Crédito  ...    8          2\n",
              "2021-01-17 13:36:00  a5120d2c47fa  Buró de Crédito  ...   13          7\n",
              "2021-01-20 09:27:00  5a5d70893606  Buró de Crédito  ...    9          3\n",
              "2021-01-21 14:26:00  4a2082948031  Buró de Crédito  ...   14          4\n",
              "\n",
              "[5 rows x 10 columns]"
            ]
          },
          "metadata": {
            "tags": []
          },
          "execution_count": 39
        }
      ]
    },
    {
      "cell_type": "markdown",
      "metadata": {
        "id": "sEgOrh7mJawI"
      },
      "source": [
        "Dado que para determinar la inversión en publicidad podría ser necesario establecer la plataforma o dominios habituales de correo, se depura el texto contenido en la columna de Correo, para esto se encuentran cuentas de correo con mayúscula, con números y con diferentes formatos, se unifica el formato y se deja sólo el dominio.\n",
        "\n",
        "Posteriormente se cambian los correo mal escritas y se unifican las de menor frecuencia en una categoría de 'otros'."
      ]
    },
    {
      "cell_type": "code",
      "metadata": {
        "id": "kIhruddjsq6b"
      },
      "source": [
        "# se unifican los correos, se cambian las mayusuculas a minusculas\n",
        "dataset['Correo'] = dataset.Correo.str.lower()\n",
        "\n",
        "# Se separa el dominio del correo\n",
        "dataset['Correo'] = (dataset['Correo'].str.split('[.@]', expand=True)).astype(str)\n",
        "\n",
        "#Se eliminan los números del dominio del correo\n",
        "dataset['Correo'] = dataset.Correo.str.replace(r\"[0-9]\",'')"
      ],
      "execution_count": 40,
      "outputs": []
    },
    {
      "cell_type": "code",
      "metadata": {
        "colab": {
          "base_uri": "https://localhost:8080/",
          "height": 394
        },
        "id": "VEdrgD16MAiv",
        "outputId": "3d31a913-71e2-4653-a71c-bbac14c87937"
      },
      "source": [
        "dataset.head(10)"
      ],
      "execution_count": 41,
      "outputs": [
        {
          "output_type": "execute_result",
          "data": {
            "text/html": [
              "<div>\n",
              "<style scoped>\n",
              "    .dataframe tbody tr th:only-of-type {\n",
              "        vertical-align: middle;\n",
              "    }\n",
              "\n",
              "    .dataframe tbody tr th {\n",
              "        vertical-align: top;\n",
              "    }\n",
              "\n",
              "    .dataframe thead th {\n",
              "        text-align: right;\n",
              "    }\n",
              "</style>\n",
              "<table border=\"1\" class=\"dataframe\">\n",
              "  <thead>\n",
              "    <tr style=\"text-align: right;\">\n",
              "      <th></th>\n",
              "      <th>id_usuario</th>\n",
              "      <th>Calificadora</th>\n",
              "      <th>Correo</th>\n",
              "      <th>Estado usuario</th>\n",
              "      <th>fecha</th>\n",
              "      <th>day</th>\n",
              "      <th>day_name</th>\n",
              "      <th>week_of_year</th>\n",
              "      <th>hour</th>\n",
              "      <th>is_weekday</th>\n",
              "    </tr>\n",
              "    <tr>\n",
              "      <th>Fecha Consulta</th>\n",
              "      <th></th>\n",
              "      <th></th>\n",
              "      <th></th>\n",
              "      <th></th>\n",
              "      <th></th>\n",
              "      <th></th>\n",
              "      <th></th>\n",
              "      <th></th>\n",
              "      <th></th>\n",
              "      <th></th>\n",
              "    </tr>\n",
              "  </thead>\n",
              "  <tbody>\n",
              "    <tr>\n",
              "      <th>2021-01-19 09:20:00</th>\n",
              "      <td>c2290d89dfc4</td>\n",
              "      <td>Buró de Crédito</td>\n",
              "      <td>gmail</td>\n",
              "      <td>ACTIVO</td>\n",
              "      <td>2021-01-19 09:20:00</td>\n",
              "      <td>19</td>\n",
              "      <td>Tuesday</td>\n",
              "      <td>3</td>\n",
              "      <td>9</td>\n",
              "      <td>2</td>\n",
              "    </tr>\n",
              "    <tr>\n",
              "      <th>2021-01-19 08:28:00</th>\n",
              "      <td>8d24ef1d52d8</td>\n",
              "      <td>Buró de Crédito</td>\n",
              "      <td>gmail</td>\n",
              "      <td>ACTIVO</td>\n",
              "      <td>2021-01-19 08:28:00</td>\n",
              "      <td>19</td>\n",
              "      <td>Tuesday</td>\n",
              "      <td>3</td>\n",
              "      <td>8</td>\n",
              "      <td>2</td>\n",
              "    </tr>\n",
              "    <tr>\n",
              "      <th>2021-01-17 13:36:00</th>\n",
              "      <td>a5120d2c47fa</td>\n",
              "      <td>Buró de Crédito</td>\n",
              "      <td>gmail</td>\n",
              "      <td>ACTIVO</td>\n",
              "      <td>2021-01-17 13:36:00</td>\n",
              "      <td>17</td>\n",
              "      <td>Sunday</td>\n",
              "      <td>2</td>\n",
              "      <td>13</td>\n",
              "      <td>7</td>\n",
              "    </tr>\n",
              "    <tr>\n",
              "      <th>2021-01-20 09:27:00</th>\n",
              "      <td>5a5d70893606</td>\n",
              "      <td>Buró de Crédito</td>\n",
              "      <td>edubc</td>\n",
              "      <td>ACTIVO</td>\n",
              "      <td>2021-01-20 09:27:00</td>\n",
              "      <td>20</td>\n",
              "      <td>Wednesday</td>\n",
              "      <td>3</td>\n",
              "      <td>9</td>\n",
              "      <td>3</td>\n",
              "    </tr>\n",
              "    <tr>\n",
              "      <th>2021-01-21 14:26:00</th>\n",
              "      <td>4a2082948031</td>\n",
              "      <td>Buró de Crédito</td>\n",
              "      <td>gmail</td>\n",
              "      <td>ACTIVO</td>\n",
              "      <td>2021-01-21 14:26:00</td>\n",
              "      <td>21</td>\n",
              "      <td>Thursday</td>\n",
              "      <td>3</td>\n",
              "      <td>14</td>\n",
              "      <td>4</td>\n",
              "    </tr>\n",
              "    <tr>\n",
              "      <th>2021-01-18 16:13:00</th>\n",
              "      <td>41a54ce08fae</td>\n",
              "      <td>Buró de Crédito</td>\n",
              "      <td>oitlook</td>\n",
              "      <td>ACTIVO</td>\n",
              "      <td>2021-01-18 16:13:00</td>\n",
              "      <td>18</td>\n",
              "      <td>Monday</td>\n",
              "      <td>3</td>\n",
              "      <td>16</td>\n",
              "      <td>1</td>\n",
              "    </tr>\n",
              "    <tr>\n",
              "      <th>2021-01-18 23:26:00</th>\n",
              "      <td>4573f1a633dc</td>\n",
              "      <td>Buró de Crédito</td>\n",
              "      <td>hotmail</td>\n",
              "      <td>ACTIVO</td>\n",
              "      <td>2021-01-18 23:26:00</td>\n",
              "      <td>18</td>\n",
              "      <td>Monday</td>\n",
              "      <td>3</td>\n",
              "      <td>23</td>\n",
              "      <td>1</td>\n",
              "    </tr>\n",
              "    <tr>\n",
              "      <th>2021-01-19 09:22:00</th>\n",
              "      <td>91651bd6cdc6</td>\n",
              "      <td>Buró de Crédito</td>\n",
              "      <td>hotmail</td>\n",
              "      <td>ACTIVO</td>\n",
              "      <td>2021-01-19 09:22:00</td>\n",
              "      <td>19</td>\n",
              "      <td>Tuesday</td>\n",
              "      <td>3</td>\n",
              "      <td>9</td>\n",
              "      <td>2</td>\n",
              "    </tr>\n",
              "    <tr>\n",
              "      <th>2021-08-01 23:00:00</th>\n",
              "      <td>0b529b9ea957</td>\n",
              "      <td>Buró de Crédito</td>\n",
              "      <td>gmail</td>\n",
              "      <td>ACTIVO</td>\n",
              "      <td>2021-08-01 23:00:00</td>\n",
              "      <td>1</td>\n",
              "      <td>Sunday</td>\n",
              "      <td>30</td>\n",
              "      <td>23</td>\n",
              "      <td>7</td>\n",
              "    </tr>\n",
              "    <tr>\n",
              "      <th>2021-01-22 11:12:00</th>\n",
              "      <td>8f8824d0e836</td>\n",
              "      <td>Buró de Crédito</td>\n",
              "      <td>gmail</td>\n",
              "      <td>ACTIVO</td>\n",
              "      <td>2021-01-22 11:12:00</td>\n",
              "      <td>22</td>\n",
              "      <td>Friday</td>\n",
              "      <td>3</td>\n",
              "      <td>11</td>\n",
              "      <td>5</td>\n",
              "    </tr>\n",
              "  </tbody>\n",
              "</table>\n",
              "</div>"
            ],
            "text/plain": [
              "                       id_usuario     Calificadora  ... hour is_weekday\n",
              "Fecha Consulta                                      ...                \n",
              "2021-01-19 09:20:00  c2290d89dfc4  Buró de Crédito  ...    9          2\n",
              "2021-01-19 08:28:00  8d24ef1d52d8  Buró de Crédito  ...    8          2\n",
              "2021-01-17 13:36:00  a5120d2c47fa  Buró de Crédito  ...   13          7\n",
              "2021-01-20 09:27:00  5a5d70893606  Buró de Crédito  ...    9          3\n",
              "2021-01-21 14:26:00  4a2082948031  Buró de Crédito  ...   14          4\n",
              "2021-01-18 16:13:00  41a54ce08fae  Buró de Crédito  ...   16          1\n",
              "2021-01-18 23:26:00  4573f1a633dc  Buró de Crédito  ...   23          1\n",
              "2021-01-19 09:22:00  91651bd6cdc6  Buró de Crédito  ...    9          2\n",
              "2021-08-01 23:00:00  0b529b9ea957  Buró de Crédito  ...   23          7\n",
              "2021-01-22 11:12:00  8f8824d0e836  Buró de Crédito  ...   11          5\n",
              "\n",
              "[10 rows x 10 columns]"
            ]
          },
          "metadata": {
            "tags": []
          },
          "execution_count": 41
        }
      ]
    },
    {
      "cell_type": "code",
      "metadata": {
        "colab": {
          "base_uri": "https://localhost:8080/"
        },
        "id": "gt7u8U5fsTN7",
        "outputId": "132ca3bf-4350-4279-aec4-5447c9cdbe00"
      },
      "source": [
        "#Se saca una lista de los dominios de correo\n",
        "dataset['Correo'].unique()"
      ],
      "execution_count": 42,
      "outputs": [
        {
          "output_type": "execute_result",
          "data": {
            "text/plain": [
              "array(['gmail', 'edubc', 'oitlook', 'hotmail', 'outlook', 'yahoo', 'me',\n",
              "       'live', 'nan', 'ittepic', 'sohe', 'multiva', 'hotmai',\n",
              "       'avantservices', 'icloud', 'liverpool', 'gmeil', 'telefonica',\n",
              "       'msn', 'hotmil', 'mail', 'hormail', 'gtelecom', 'mx', 'saetowers',\n",
              "       'tec', 'hotmaol', 'gotmail', 'yomax', 'suramexico', 'g', 'hitmail',\n",
              "       'exatec', 'jotmail', 'gitsmfg', 'sermatel', 'prodigy', 'gmal',\n",
              "       'gmai', 'bbva', 'gamil', 'madisa', 'hutchinson-seal-mexico',\n",
              "       'olxautos', 'gnail', 'gmil', 'osiux', 'yansa', 'aefcm', 'hatmail',\n",
              "       'gimail', 'ymail', 'prodyaut', 'cfe', 'guanajuato', 'riconsa',\n",
              "       'gmaim', 'hot', 'occidente', 'outlok', 'test'], dtype=object)"
            ]
          },
          "metadata": {
            "tags": []
          },
          "execution_count": 42
        }
      ]
    },
    {
      "cell_type": "code",
      "metadata": {
        "id": "IAIsBCEQAFiG"
      },
      "source": [
        "#se unifican los dominios mal escritos\n",
        "dataset = dataset.replace(to_replace=['gmeil', 'gmal', 'gmai','gamil','gnail','gmil', 'gimail', 'ymail', 'gmaim'], value=['gmail','gmail','gmail','gmail','gmail','gmail','gmail','gmail','gmail'])\n",
        "dataset = dataset.replace(to_replace=['hotmai', 'hotmil', 'hormail','hotmaol','gotmail','hitmail', 'jotmail', 'hatmail','hot'], value=['hotmail','hotmail','hotmail','hotmail','hotmail','hotmail','hotmail','hotmail','hotmail'])\n",
        "dataset = dataset.replace(to_replace=['oitlook', 'outlok'], value=['outlook','outlook'])"
      ],
      "execution_count": 43,
      "outputs": []
    },
    {
      "cell_type": "code",
      "metadata": {
        "colab": {
          "base_uri": "https://localhost:8080/"
        },
        "id": "EfrfUQRSBbs-",
        "outputId": "4d3c2efe-276e-4767-b0dd-b93396a46f4f"
      },
      "source": [
        "dataset['Correo'].unique()"
      ],
      "execution_count": 44,
      "outputs": [
        {
          "output_type": "execute_result",
          "data": {
            "text/plain": [
              "array(['gmail', 'edubc', 'outlook', 'hotmail', 'yahoo', 'me', 'live',\n",
              "       'nan', 'ittepic', 'sohe', 'multiva', 'avantservices', 'icloud',\n",
              "       'liverpool', 'telefonica', 'msn', 'mail', 'gtelecom', 'mx',\n",
              "       'saetowers', 'tec', 'yomax', 'suramexico', 'g', 'exatec',\n",
              "       'gitsmfg', 'sermatel', 'prodigy', 'bbva', 'madisa',\n",
              "       'hutchinson-seal-mexico', 'olxautos', 'osiux', 'yansa', 'aefcm',\n",
              "       'prodyaut', 'cfe', 'guanajuato', 'riconsa', 'occidente', 'test'],\n",
              "      dtype=object)"
            ]
          },
          "metadata": {
            "tags": []
          },
          "execution_count": 44
        }
      ]
    },
    {
      "cell_type": "code",
      "metadata": {
        "colab": {
          "base_uri": "https://localhost:8080/"
        },
        "id": "SyHXzB7zW-1_",
        "outputId": "06c5d2e3-c395-4e4f-beff-3ca49b745612"
      },
      "source": [
        "#se validan los dominios \n",
        "dataset.Correo.value_counts().sort_index()\n"
      ],
      "execution_count": 45,
      "outputs": [
        {
          "output_type": "execute_result",
          "data": {
            "text/plain": [
              "aefcm                        1\n",
              "avantservices                1\n",
              "bbva                         1\n",
              "cfe                          1\n",
              "edubc                        1\n",
              "exatec                       1\n",
              "g                            3\n",
              "gitsmfg                      1\n",
              "gmail                     2850\n",
              "gtelecom                     1\n",
              "guanajuato                   1\n",
              "hotmail                    845\n",
              "hutchinson-seal-mexico       1\n",
              "icloud                       7\n",
              "ittepic                      1\n",
              "live                        56\n",
              "liverpool                    4\n",
              "madisa                       1\n",
              "mail                         3\n",
              "me                           4\n",
              "msn                          7\n",
              "multiva                      1\n",
              "mx                           3\n",
              "nan                         19\n",
              "occidente                    1\n",
              "olxautos                     1\n",
              "osiux                        1\n",
              "outlook                    144\n",
              "prodigy                      1\n",
              "prodyaut                     1\n",
              "riconsa                      1\n",
              "saetowers                    1\n",
              "sermatel                     1\n",
              "sohe                         1\n",
              "suramexico                   4\n",
              "tec                          1\n",
              "telefonica                   1\n",
              "test                         1\n",
              "yahoo                       45\n",
              "yansa                        2\n",
              "yomax                        1\n",
              "Name: Correo, dtype: int64"
            ]
          },
          "metadata": {
            "tags": []
          },
          "execution_count": 45
        }
      ]
    },
    {
      "cell_type": "code",
      "metadata": {
        "id": "o4-1LkOuXYfM"
      },
      "source": [
        "#Se unifican los correos con una frecuencia de 1 y 2 en la categoria otros\n",
        "dic_replace = {'aefcm': 'otros',\n",
        "               'avantservices': 'otros',\n",
        "               'bbva': 'otros',\n",
        "               'cfe': 'otros',\n",
        "               'edubc': 'otros',\n",
        "               'exatec': 'otros',\n",
        "               'gitsmfg': 'otros',\n",
        "               'gtelecom': 'otros',\n",
        "               'guanajuato': 'otros',\n",
        "               'hutchinson-seal-mexico': 'otros',\n",
        "               'ittepic': 'otros',\n",
        "               'madisa': 'otros',\n",
        "               'multiva': 'otros',\n",
        "               'occidente': 'otros',\n",
        "               'olxautos': 'otros',\n",
        "               'osiux': 'otros',\n",
        "               'prodigy': 'otros',\n",
        "               'prodyaut': 'otros',\n",
        "               'riconsa': 'otros',\n",
        "               'saetowers': 'otros',\n",
        "               'sermatel': 'otros',\n",
        "               'sohe': 'otros',\n",
        "               'tec': 'otros',\n",
        "               'telefonica': 'otros',\n",
        "               'test': 'otros',\n",
        "               'yansa': 'otros',\n",
        "               'yomax': 'otros'}\n",
        "\n",
        "dataset['Correo'] = dataset['Correo']\\\n",
        "                    .map(dic_replace) \\\n",
        "                    .fillna(dataset['Correo'])\n",
        " "
      ],
      "execution_count": 46,
      "outputs": []
    },
    {
      "cell_type": "code",
      "metadata": {
        "colab": {
          "base_uri": "https://localhost:8080/"
        },
        "id": "UEu1KgU9LwYN",
        "outputId": "a9ec5211-03c2-417b-9bc5-887b7c29aff7"
      },
      "source": [
        "#Se observan cuales dominios quedaron\n",
        "dataset.Correo.value_counts().sort_index()"
      ],
      "execution_count": 47,
      "outputs": [
        {
          "output_type": "execute_result",
          "data": {
            "text/plain": [
              "g                3\n",
              "gmail         2850\n",
              "hotmail        845\n",
              "icloud           7\n",
              "live            56\n",
              "liverpool        4\n",
              "mail             3\n",
              "me               4\n",
              "msn              7\n",
              "mx               3\n",
              "nan             19\n",
              "otros           28\n",
              "outlook        144\n",
              "suramexico       4\n",
              "yahoo           45\n",
              "Name: Correo, dtype: int64"
            ]
          },
          "metadata": {
            "tags": []
          },
          "execution_count": 47
        }
      ]
    },
    {
      "cell_type": "code",
      "metadata": {
        "id": "ZKfdRpTvnwSi",
        "colab": {
          "base_uri": "https://localhost:8080/"
        },
        "outputId": "290f118b-6d5e-4f58-98e0-1aafb22cb23a"
      },
      "source": [
        "print(dataset.columns.tolist())"
      ],
      "execution_count": 48,
      "outputs": [
        {
          "output_type": "stream",
          "text": [
            "['id_usuario', 'Calificadora', 'Correo', 'Estado usuario', 'fecha', 'day', 'day_name', 'week_of_year', 'hour', 'is_weekday']\n"
          ],
          "name": "stdout"
        }
      ]
    },
    {
      "cell_type": "code",
      "metadata": {
        "colab": {
          "base_uri": "https://localhost:8080/"
        },
        "id": "hm-FFWX-0z3s",
        "outputId": "73d341a6-b738-4e7b-ffb2-ba1f19d1f03b"
      },
      "source": [
        "dataset.info()"
      ],
      "execution_count": 49,
      "outputs": [
        {
          "output_type": "stream",
          "text": [
            "<class 'pandas.core.frame.DataFrame'>\n",
            "DatetimeIndex: 4022 entries, 2021-01-19 09:20:00 to 2021-01-17 20:59:00\n",
            "Data columns (total 10 columns):\n",
            " #   Column          Non-Null Count  Dtype         \n",
            "---  ------          --------------  -----         \n",
            " 0   id_usuario      4022 non-null   object        \n",
            " 1   Calificadora    4022 non-null   object        \n",
            " 2   Correo          4022 non-null   object        \n",
            " 3   Estado usuario  4003 non-null   object        \n",
            " 4   fecha           4022 non-null   datetime64[ns]\n",
            " 5   day             4022 non-null   int64         \n",
            " 6   day_name        4022 non-null   object        \n",
            " 7   week_of_year    4022 non-null   int64         \n",
            " 8   hour            4022 non-null   int64         \n",
            " 9   is_weekday      4022 non-null   int64         \n",
            "dtypes: datetime64[ns](1), int64(4), object(5)\n",
            "memory usage: 345.6+ KB\n"
          ],
          "name": "stdout"
        }
      ]
    },
    {
      "cell_type": "code",
      "metadata": {
        "colab": {
          "base_uri": "https://localhost:8080/",
          "height": 1000
        },
        "id": "2tzTe5FQKELf",
        "outputId": "90d59132-f7fd-4cfe-d5aa-5717fd92f9c8"
      },
      "source": [
        "# Se grafica cada columna de la base de datos, con el fin de establecer su distribución\n",
        "\n",
        "def plotPerColumnDistribution(dataset, nGraphShown, nGraphPerRow):\n",
        "    nunique = dataset.nunique()\n",
        "    dataset = dataset[[col for col in dataset if nunique[col] > 1 and nunique[col] < 50]] \n",
        "    nRow, nCol = dataset.shape\n",
        "    columnNames = list(dataset)\n",
        "    nGraphRow = (nCol + nGraphPerRow - 1) / nGraphPerRow\n",
        "    plt.figure(num = None, figsize = (6 * nGraphPerRow, 8 * nGraphRow), dpi = 80, facecolor = 'w', edgecolor = 'k')\n",
        "    for i in range(min(nCol, nGraphShown)):\n",
        "        plt.subplot(nGraphRow, nGraphPerRow, i + 1)\n",
        "        columnDf = dataset.iloc[:, i]\n",
        "        if (not np.issubdtype(type(columnDf.iloc[0]), np.number)):\n",
        "            valueCounts = columnDf.value_counts()\n",
        "            valueCounts.plot.bar()\n",
        "        else:\n",
        "            columnDf.hist()\n",
        "        plt.ylabel('counts')\n",
        "        plt.xticks(rotation = 90)\n",
        "        plt.title(f'{columnNames[i]} (column {i})')\n",
        "    plt.tight_layout(pad = 1.0, w_pad = 1.0, h_pad = 1.0)\n",
        "    plt.show()\n",
        "\n",
        "print(plotPerColumnDistribution(dataset, 10, 2))\n"
      ],
      "execution_count": 50,
      "outputs": [
        {
          "output_type": "display_data",
          "data": {
            "image/png": "[encoded data removed]",
            "text/plain": [
              "<Figure size 960x2560 with 7 Axes>"
            ]
          },
          "metadata": {
            "tags": []
          }
        },
        {
          "output_type": "stream",
          "text": [
            "None\n"
          ],
          "name": "stdout"
        }
      ]
    },
    {
      "cell_type": "markdown",
      "metadata": {
        "id": "W4iKuDmgNvLK"
      },
      "source": [
        "Con base en las anteriores gráficas se observa:\n",
        "\n",
        "- Cerca del 71% de los correos corresponden al dominio gmail, seguido de hotmail y outlook con el 21% y 3.59%, respectivamente. Por lo tanto si la publicidad de puede enfocar en los dominios de correo, la recomendación es enfocarla en gmail principalmente.\n",
        "\n",
        "- El 90% de los usuarios se encuentran activos, mientras que un 8% se encuentra sin validar y el 2% restante se encuentra desactivado.\n",
        "\n",
        "- La mayoria de los datos se concentra en los días comprendidos entre el 14 y el 24 del mes, cerca del 84% se encuentra en este rango, si bien puede ser prematuro dar una conclusión pues la información corresponde a sólo dos meses, se puede recomendar enfocar la inversión en publicidad la tercera y cuarta semana de la semana.\n",
        "\n",
        "- Se observa que los días de mayor tráfico son el jueves con un 18.54% de los usuarios, el domingo con un 18,1% y lunes con el 16.91%, por su parte, el día con menor tráfico es fue el muercoles con el 7% del total de los usuarios. De acuerdo con esto es necesario enfocar la pauta publicitaria en los día jueves, domingo y lunes de mayor tráfico."
      ]
    },
    {
      "cell_type": "code",
      "metadata": {
        "id": "NUYaiUTPcpnf",
        "colab": {
          "base_uri": "https://localhost:8080/"
        },
        "outputId": "43a66194-c415-4b9b-af9c-6f575c78b858"
      },
      "source": [
        "hour = []\n",
        "for x in range(0,24):\n",
        "    hour.append(x)\n",
        "    \n",
        "agg_hour = dataset.groupby(['hour'], as_index = False)['id_usuario'].count()\n",
        "\n",
        "print(agg_hour)"
      ],
      "execution_count": 51,
      "outputs": [
        {
          "output_type": "stream",
          "text": [
            "    hour  id_usuario\n",
            "0      0         203\n",
            "1      1         130\n",
            "2      2          79\n",
            "3      3          47\n",
            "4      4          34\n",
            "5      5          28\n",
            "6      6          49\n",
            "7      7          73\n",
            "8      8         125\n",
            "9      9         154\n",
            "10    10         177\n",
            "11    11         165\n",
            "12    12         212\n",
            "13    13         194\n",
            "14    14         192\n",
            "15    15         222\n",
            "16    16         223\n",
            "17    17         228\n",
            "18    18         218\n",
            "19    19         267\n",
            "20    20         247\n",
            "21    21         280\n",
            "22    22         270\n",
            "23    23         205\n"
          ],
          "name": "stdout"
        }
      ]
    },
    {
      "cell_type": "code",
      "metadata": {
        "colab": {
          "base_uri": "https://localhost:8080/",
          "height": 336
        },
        "id": "GfCAXK0JPPpS",
        "outputId": "22f48480-8037-459d-ef02-ea2f9d23b737"
      },
      "source": [
        "#Se grafica la distribución de los usuarios conectados por hora\n",
        "fig = plt.figure()\n",
        "ax = fig.add_axes([0,0,1,1])\n",
        "ax.bar(agg_hour['hour'],agg_hour['id_usuario'])\n",
        "plt.show()"
      ],
      "execution_count": 52,
      "outputs": [
        {
          "output_type": "display_data",
          "data": {
            "image/png": "[encoded data removed]",
            "text/plain": [
              "<Figure size 432x288 with 1 Axes>"
            ]
          },
          "metadata": {
            "tags": [],
            "needs_background": "light"
          }
        }
      ]
    },
    {
      "cell_type": "markdown",
      "metadata": {
        "id": "fkTKiRjbY0Ey"
      },
      "source": [
        "De acuerdo a la distribución de los usuarios por hora, se observa que de manera general las horas de mayor tráfico son las 9 p.m. con un 6.96% del total de usuarios, las 10 p.m. con un 6.71% y las 7 p.m con un 6.64%. \n",
        "\n",
        "Por su parte el horario con menor tráfico es el comprendido entre las 2 a.m y las 5 a.m., este último es el menor sólo con un 0.70%."
      ]
    },
    {
      "cell_type": "code",
      "metadata": {
        "id": "KUOpsoz4d2pH",
        "colab": {
          "base_uri": "https://localhost:8080/"
        },
        "outputId": "d729db5a-59c0-4453-9a7b-c602129c6cf5"
      },
      "source": [
        "# Se agrupa la información por día y se suma el número de usuarios conectados\n",
        "agg_day = dataset.groupby(['day_name'], as_index = False)['id_usuario'].count()\n",
        "print(agg_day)\n"
      ],
      "execution_count": 53,
      "outputs": [
        {
          "output_type": "stream",
          "text": [
            "    day_name  id_usuario\n",
            "0     Friday         492\n",
            "1     Monday         682\n",
            "2   Saturday         499\n",
            "3     Sunday         730\n",
            "4   Thursday         591\n",
            "5    Tuesday         748\n",
            "6  Wednesday         280\n"
          ],
          "name": "stdout"
        }
      ]
    },
    {
      "cell_type": "code",
      "metadata": {
        "colab": {
          "base_uri": "https://localhost:8080/"
        },
        "id": "gWAA3fNyiyPL",
        "outputId": "7e91bc58-13f9-436c-a8a7-b7c481c76d18"
      },
      "source": [
        "# Se agrupa la información por día y se suma el número de usuarios conectados\n",
        "agg_wday = dataset.groupby(['is_weekday'], as_index = False)['id_usuario'].count()\n",
        "print(agg_wday)\n"
      ],
      "execution_count": 54,
      "outputs": [
        {
          "output_type": "stream",
          "text": [
            "   is_weekday  id_usuario\n",
            "0           1         682\n",
            "1           2         748\n",
            "2           3         280\n",
            "3           4         591\n",
            "4           5         492\n",
            "5           6         499\n",
            "6           7         730\n"
          ],
          "name": "stdout"
        }
      ]
    },
    {
      "cell_type": "code",
      "metadata": {
        "colab": {
          "base_uri": "https://localhost:8080/",
          "height": 336
        },
        "id": "cT_ZLjP1jEfl",
        "outputId": "f0a078c0-195e-45ab-c5e1-1143c692b797"
      },
      "source": [
        "fig = plt.figure()\n",
        "ax = fig.add_axes([0,0,1,1])\n",
        "ax.bar(agg_wday['is_weekday'],agg_wday['id_usuario'])\n",
        "plt.show()"
      ],
      "execution_count": 55,
      "outputs": [
        {
          "output_type": "display_data",
          "data": {
            "image/png": "[encoded data removed]",
            "text/plain": [
              "<Figure size 432x288 with 1 Axes>"
            ]
          },
          "metadata": {
            "tags": [],
            "needs_background": "light"
          }
        }
      ]
    },
    {
      "cell_type": "code",
      "metadata": {
        "colab": {
          "base_uri": "https://localhost:8080/"
        },
        "id": "Des94gQCArqN",
        "outputId": "de5182f5-66cd-4e2c-ece3-446fcdc26317"
      },
      "source": [
        "# # Se agrupa la información por día, pero teniendo en cuenta el día de la semana y se suma el número de usuarios conectados\n",
        "agg_hday = dataset.groupby(['is_weekday', 'hour'], as_index = False)['id_usuario'].count()\n",
        "print(agg_hday)\n"
      ],
      "execution_count": 56,
      "outputs": [
        {
          "output_type": "stream",
          "text": [
            "     is_weekday  hour  id_usuario\n",
            "0             1     0          26\n",
            "1             1     1          24\n",
            "2             1     2          11\n",
            "3             1     3           7\n",
            "4             1     4           3\n",
            "..          ...   ...         ...\n",
            "163           7    19          46\n",
            "164           7    20          42\n",
            "165           7    21          51\n",
            "166           7    22          36\n",
            "167           7    23          35\n",
            "\n",
            "[168 rows x 3 columns]\n"
          ],
          "name": "stdout"
        }
      ]
    },
    {
      "cell_type": "code",
      "metadata": {
        "colab": {
          "base_uri": "https://localhost:8080/",
          "height": 352
        },
        "id": "MjqDYKGUA30S",
        "outputId": "fe23d102-ca22-49e7-962a-eeea20476494"
      },
      "source": [
        "#Se grafican los usuarios conectados en el día lunes\n",
        "\n",
        "lunes = agg_hday[agg_hday.is_weekday == 1]\n",
        "fig = plt.figure()\n",
        "ax = fig.add_axes([0,0,1,1])\n",
        "ax.bar(lunes['hour'],lunes['id_usuario'],  color='#04D8B2')\n",
        "plt.title('Distribución lunes') \n",
        "plt.show()"
      ],
      "execution_count": 80,
      "outputs": [
        {
          "output_type": "display_data",
          "data": {
            "image/png": "[encoded data removed]",
            "text/plain": [
              "<Figure size 432x288 with 1 Axes>"
            ]
          },
          "metadata": {
            "tags": [],
            "needs_background": "light"
          }
        }
      ]
    },
    {
      "cell_type": "code",
      "metadata": {
        "colab": {
          "base_uri": "https://localhost:8080/",
          "height": 352
        },
        "id": "g_vjd1EqDut2",
        "outputId": "5bab9ca9-1612-408f-fbe6-96e2c1255883"
      },
      "source": [
        "#Se grafican los usuarios conectados en el día martes\n",
        "\n",
        "martes = agg_hday[agg_hday.is_weekday == 2]\n",
        "fig = plt.figure()\n",
        "ax = fig.add_axes([0,0,1,1])\n",
        "ax.bar(martes['hour'], martes['id_usuario'], color='#D2691E')\n",
        "plt.title('Distribución martes') \n",
        "plt.show()"
      ],
      "execution_count": 75,
      "outputs": [
        {
          "output_type": "display_data",
          "data": {
            "image/png": "[encoded data removed]",
            "text/plain": [
              "<Figure size 432x288 with 1 Axes>"
            ]
          },
          "metadata": {
            "tags": [],
            "needs_background": "light"
          }
        }
      ]
    },
    {
      "cell_type": "code",
      "metadata": {
        "colab": {
          "base_uri": "https://localhost:8080/",
          "height": 352
        },
        "id": "htTQYiGtEARB",
        "outputId": "c18c09f7-345b-46c1-d426-ba8b0e697333"
      },
      "source": [
        "#Se grafican los usuarios conectados en el día miércoles\n",
        "\n",
        "miercoles = agg_hday[agg_hday.is_weekday == 3]\n",
        "fig = plt.figure()\n",
        "ax = fig.add_axes([0,0,1,1])\n",
        "ax.bar(miercoles['hour'],miercoles['id_usuario'],  color='#C20078')\n",
        "plt.title('Distribución miércoles') \n",
        "plt.show()"
      ],
      "execution_count": 76,
      "outputs": [
        {
          "output_type": "display_data",
          "data": {
            "image/png": "[encoded data removed]",
            "text/plain": [
              "<Figure size 432x288 with 1 Axes>"
            ]
          },
          "metadata": {
            "tags": [],
            "needs_background": "light"
          }
        }
      ]
    },
    {
      "cell_type": "code",
      "metadata": {
        "colab": {
          "base_uri": "https://localhost:8080/",
          "height": 352
        },
        "id": "yxe-rmnyEpuH",
        "outputId": "d793607c-c391-4714-cbfa-a60e22fea0ca"
      },
      "source": [
        "#Se grafican los usuarios conectados en el día jueves\n",
        "\n",
        "jueves = agg_hday[agg_hday.is_weekday == 4]\n",
        "fig = plt.figure()\n",
        "ax = fig.add_axes([0,0,1,1])\n",
        "ax.bar(jueves['hour'],jueves['id_usuario'],  color='#0343DF')\n",
        "plt.title('Distribución jueves') \n",
        "plt.show()"
      ],
      "execution_count": 77,
      "outputs": [
        {
          "output_type": "display_data",
          "data": {
            "image/png": "[encoded data removed]",
            "text/plain": [
              "<Figure size 432x288 with 1 Axes>"
            ]
          },
          "metadata": {
            "tags": [],
            "needs_background": "light"
          }
        }
      ]
    },
    {
      "cell_type": "code",
      "metadata": {
        "colab": {
          "base_uri": "https://localhost:8080/",
          "height": 352
        },
        "id": "vtUzOe9BE4sb",
        "outputId": "42b099a3-6ce1-4308-f64e-cd1a713f6b08"
      },
      "source": [
        "#Se grafican los usuarios conectados en el día viernes\n",
        "\n",
        "viernes = agg_hday[agg_hday.is_weekday == 5]\n",
        "fig = plt.figure()\n",
        "ax = fig.add_axes([0,0,1,1])\n",
        "ax.bar(viernes['hour'],viernes['id_usuario'],  color='#FC5A50')\n",
        "plt.title('Distribución viernes') \n",
        "plt.show()"
      ],
      "execution_count": 78,
      "outputs": [
        {
          "output_type": "display_data",
          "data": {
            "image/png": "[encoded data removed]",
            "text/plain": [
              "<Figure size 432x288 with 1 Axes>"
            ]
          },
          "metadata": {
            "tags": [],
            "needs_background": "light"
          }
        }
      ]
    },
    {
      "cell_type": "code",
      "metadata": {
        "colab": {
          "base_uri": "https://localhost:8080/",
          "height": 352
        },
        "id": "C1Gw02UTFVg-",
        "outputId": "f090bfcb-406f-40ba-a60c-9792242c1ab8"
      },
      "source": [
        "#Se grafican los usuarios conectados en el día sabado\n",
        "\n",
        "sabado = agg_hday[agg_hday.is_weekday == 6]\n",
        "fig = plt.figure()\n",
        "ax = fig.add_axes([0,0,1,1])\n",
        "ax.bar(sabado['hour'],sabado['id_usuario'],  color='#76FF7B')\n",
        "plt.title('Distribución sábado') \n",
        "plt.show()"
      ],
      "execution_count": 82,
      "outputs": [
        {
          "output_type": "display_data",
          "data": {
            "image/png": "[encoded data removed]",
            "text/plain": [
              "<Figure size 432x288 with 1 Axes>"
            ]
          },
          "metadata": {
            "tags": [],
            "needs_background": "light"
          }
        }
      ]
    },
    {
      "cell_type": "code",
      "metadata": {
        "colab": {
          "base_uri": "https://localhost:8080/",
          "height": 352
        },
        "id": "m_31duZhGJap",
        "outputId": "0898ec3b-c77a-4046-ad87-fe3928d0b3b3"
      },
      "source": [
        "#Se grafican los usuarios conectados en el día domingo\n",
        "\n",
        "domingo = agg_hday[agg_hday.is_weekday == 7]\n",
        "fig = plt.figure()\n",
        "ax = fig.add_axes([0,0,1,1])\n",
        "ax.bar(domingo['hour'], domingo['id_usuario'],  color='#FFFF00')\n",
        "plt.title('Distribución domingo') \n",
        "plt.show()"
      ],
      "execution_count": 83,
      "outputs": [
        {
          "output_type": "display_data",
          "data": {
            "image/png": "[encoded data removed]",
            "text/plain": [
              "<Figure size 432x288 with 1 Axes>"
            ]
          },
          "metadata": {
            "tags": [],
            "needs_background": "light"
          }
        }
      ]
    },
    {
      "cell_type": "markdown",
      "metadata": {
        "id": "MSvA0dU3blBt"
      },
      "source": [
        "Adicionalmente, de acuerdo a la distribución de tráfico por día y por hora en la definición de la pauta publicitaria se recomienda tener en cuenta los siguientes aspectos:\n",
        "\n",
        "- El mayor tráfico el lunes se presenta a las 4 p.m., las 9 p.m. y las 10 p.m.\n",
        "\n",
        "- El día martes las horas de mayor tráfico son las 8 p.m, 12 m, 1 p.m. y 7 p.m.\n",
        "\n",
        "- El miércoles las horas con mayor tráfico son las 10 p.m., las 7 p.m. y 11 a.m.\n",
        "\n",
        "- El jueves, las horas de mayor tráfico son las comprendidas entre las 5 p.m. y las 11 p.m.\n",
        "\n",
        "- El viernes, las horas de mayor tráfico son las 10 a.m., las 9 p.m. y las 12 p.m.\n",
        "\n",
        "- El sábado las horas con mayor tráfico son las 12 p.m. y las 10 p.m.\n",
        "\n",
        "- El domingo las horas de mayor tráfico son las horas comprendidas entre las 12 p.m. y las 4 p.m. y las 9 p.m."
      ]
    }
  ]
}